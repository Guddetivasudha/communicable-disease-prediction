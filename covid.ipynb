{
 "cells": [
  {
   "cell_type": "code",
   "execution_count": 1,
   "id": "ec0ca0b7",
   "metadata": {},
   "outputs": [],
   "source": [
    "import numpy as np\n",
    "import pandas as pd\n",
    "import matplotlib.pyplot as plt\n",
    "import seaborn as sns\n",
    "import warnings\n",
    "warnings.filterwarnings('ignore')"
   ]
  },
  {
   "cell_type": "code",
   "execution_count": 2,
   "id": "2391af8c",
   "metadata": {},
   "outputs": [
    {
     "data": {
      "text/html": [
       "<div>\n",
       "<style scoped>\n",
       "    .dataframe tbody tr th:only-of-type {\n",
       "        vertical-align: middle;\n",
       "    }\n",
       "\n",
       "    .dataframe tbody tr th {\n",
       "        vertical-align: top;\n",
       "    }\n",
       "\n",
       "    .dataframe thead th {\n",
       "        text-align: right;\n",
       "    }\n",
       "</style>\n",
       "<table border=\"1\" class=\"dataframe\">\n",
       "  <thead>\n",
       "    <tr style=\"text-align: right;\">\n",
       "      <th></th>\n",
       "      <th>test_date</th>\n",
       "      <th>cough</th>\n",
       "      <th>fever</th>\n",
       "      <th>sore_throat</th>\n",
       "      <th>shortness_of_breath</th>\n",
       "      <th>head_ache</th>\n",
       "      <th>corona_result</th>\n",
       "      <th>age_60_and_above</th>\n",
       "      <th>gender</th>\n",
       "      <th>test_indication</th>\n",
       "    </tr>\n",
       "  </thead>\n",
       "  <tbody>\n",
       "    <tr>\n",
       "      <th>0</th>\n",
       "      <td>2021-10-11</td>\n",
       "      <td>0</td>\n",
       "      <td>0</td>\n",
       "      <td>0</td>\n",
       "      <td>0</td>\n",
       "      <td>0</td>\n",
       "      <td>Negative</td>\n",
       "      <td>Yes</td>\n",
       "      <td>female</td>\n",
       "      <td>Other</td>\n",
       "    </tr>\n",
       "    <tr>\n",
       "      <th>1</th>\n",
       "      <td>2021-10-11</td>\n",
       "      <td>0</td>\n",
       "      <td>0</td>\n",
       "      <td>0</td>\n",
       "      <td>0</td>\n",
       "      <td>0</td>\n",
       "      <td>Negative</td>\n",
       "      <td>Yes</td>\n",
       "      <td>male</td>\n",
       "      <td>Other</td>\n",
       "    </tr>\n",
       "    <tr>\n",
       "      <th>2</th>\n",
       "      <td>2021-10-11</td>\n",
       "      <td>0</td>\n",
       "      <td>0</td>\n",
       "      <td>0</td>\n",
       "      <td>0</td>\n",
       "      <td>0</td>\n",
       "      <td>Negative</td>\n",
       "      <td>No</td>\n",
       "      <td>female</td>\n",
       "      <td>Other</td>\n",
       "    </tr>\n",
       "    <tr>\n",
       "      <th>3</th>\n",
       "      <td>2021-10-11</td>\n",
       "      <td>0</td>\n",
       "      <td>0</td>\n",
       "      <td>0</td>\n",
       "      <td>0</td>\n",
       "      <td>0</td>\n",
       "      <td>Negative</td>\n",
       "      <td>Yes</td>\n",
       "      <td>female</td>\n",
       "      <td>Other</td>\n",
       "    </tr>\n",
       "    <tr>\n",
       "      <th>4</th>\n",
       "      <td>2021-10-11</td>\n",
       "      <td>0</td>\n",
       "      <td>0</td>\n",
       "      <td>0</td>\n",
       "      <td>0</td>\n",
       "      <td>0</td>\n",
       "      <td>Negative</td>\n",
       "      <td>Yes</td>\n",
       "      <td>female</td>\n",
       "      <td>Other</td>\n",
       "    </tr>\n",
       "    <tr>\n",
       "      <th>...</th>\n",
       "      <td>...</td>\n",
       "      <td>...</td>\n",
       "      <td>...</td>\n",
       "      <td>...</td>\n",
       "      <td>...</td>\n",
       "      <td>...</td>\n",
       "      <td>...</td>\n",
       "      <td>...</td>\n",
       "      <td>...</td>\n",
       "      <td>...</td>\n",
       "    </tr>\n",
       "    <tr>\n",
       "      <th>5861475</th>\n",
       "      <td>2020-03-20</td>\n",
       "      <td>1</td>\n",
       "      <td>1</td>\n",
       "      <td>0</td>\n",
       "      <td>0</td>\n",
       "      <td>0</td>\n",
       "      <td>Negative</td>\n",
       "      <td>No</td>\n",
       "      <td>female</td>\n",
       "      <td>Other</td>\n",
       "    </tr>\n",
       "    <tr>\n",
       "      <th>5861476</th>\n",
       "      <td>2020-03-20</td>\n",
       "      <td>0</td>\n",
       "      <td>0</td>\n",
       "      <td>0</td>\n",
       "      <td>0</td>\n",
       "      <td>0</td>\n",
       "      <td>Negative</td>\n",
       "      <td>No</td>\n",
       "      <td>male</td>\n",
       "      <td>Other</td>\n",
       "    </tr>\n",
       "    <tr>\n",
       "      <th>5861477</th>\n",
       "      <td>2020-03-20</td>\n",
       "      <td>0</td>\n",
       "      <td>0</td>\n",
       "      <td>0</td>\n",
       "      <td>0</td>\n",
       "      <td>0</td>\n",
       "      <td>Negative</td>\n",
       "      <td>No</td>\n",
       "      <td>female</td>\n",
       "      <td>Other</td>\n",
       "    </tr>\n",
       "    <tr>\n",
       "      <th>5861478</th>\n",
       "      <td>2020-03-20</td>\n",
       "      <td>0</td>\n",
       "      <td>0</td>\n",
       "      <td>0</td>\n",
       "      <td>0</td>\n",
       "      <td>0</td>\n",
       "      <td>Negative</td>\n",
       "      <td>No</td>\n",
       "      <td>male</td>\n",
       "      <td>Other</td>\n",
       "    </tr>\n",
       "    <tr>\n",
       "      <th>5861479</th>\n",
       "      <td>2020-03-20</td>\n",
       "      <td>0</td>\n",
       "      <td>0</td>\n",
       "      <td>0</td>\n",
       "      <td>0</td>\n",
       "      <td>0</td>\n",
       "      <td>Negative</td>\n",
       "      <td>No</td>\n",
       "      <td>male</td>\n",
       "      <td>Other</td>\n",
       "    </tr>\n",
       "  </tbody>\n",
       "</table>\n",
       "<p>5861480 rows × 10 columns</p>\n",
       "</div>"
      ],
      "text/plain": [
       "          test_date  cough  fever  sore_throat  shortness_of_breath  \\\n",
       "0        2021-10-11      0      0            0                    0   \n",
       "1        2021-10-11      0      0            0                    0   \n",
       "2        2021-10-11      0      0            0                    0   \n",
       "3        2021-10-11      0      0            0                    0   \n",
       "4        2021-10-11      0      0            0                    0   \n",
       "...             ...    ...    ...          ...                  ...   \n",
       "5861475  2020-03-20      1      1            0                    0   \n",
       "5861476  2020-03-20      0      0            0                    0   \n",
       "5861477  2020-03-20      0      0            0                    0   \n",
       "5861478  2020-03-20      0      0            0                    0   \n",
       "5861479  2020-03-20      0      0            0                    0   \n",
       "\n",
       "         head_ache corona_result age_60_and_above  gender test_indication  \n",
       "0                0      Negative              Yes  female           Other  \n",
       "1                0      Negative              Yes    male           Other  \n",
       "2                0      Negative               No  female           Other  \n",
       "3                0      Negative              Yes  female           Other  \n",
       "4                0      Negative              Yes  female           Other  \n",
       "...            ...           ...              ...     ...             ...  \n",
       "5861475          0      Negative               No  female           Other  \n",
       "5861476          0      Negative               No    male           Other  \n",
       "5861477          0      Negative               No  female           Other  \n",
       "5861478          0      Negative               No    male           Other  \n",
       "5861479          0      Negative               No    male           Other  \n",
       "\n",
       "[5861480 rows x 10 columns]"
      ]
     },
     "execution_count": 2,
     "metadata": {},
     "output_type": "execute_result"
    }
   ],
   "source": [
    "data = pd.read_csv(\"C:\\\\Users\\\\Vasudha\\\\Downloads\\\\covid_data_2020-2021 (1).csv\")\n",
    "data"
   ]
  },
  {
   "cell_type": "code",
   "execution_count": 3,
   "id": "0bce4313",
   "metadata": {},
   "outputs": [],
   "source": [
    "data=data.head(50000)"
   ]
  },
  {
   "cell_type": "code",
   "execution_count": 4,
   "id": "bc4d727a",
   "metadata": {},
   "outputs": [
    {
     "data": {
      "text/plain": [
       "(50000, 10)"
      ]
     },
     "execution_count": 4,
     "metadata": {},
     "output_type": "execute_result"
    }
   ],
   "source": [
    "\n",
    "\n",
    "data.shape"
   ]
  },
  {
   "cell_type": "code",
   "execution_count": 5,
   "id": "977d4d58",
   "metadata": {},
   "outputs": [
    {
     "name": "stdout",
     "output_type": "stream",
     "text": [
      "<class 'pandas.core.frame.DataFrame'>\n",
      "RangeIndex: 50000 entries, 0 to 49999\n",
      "Data columns (total 10 columns):\n",
      " #   Column               Non-Null Count  Dtype \n",
      "---  ------               --------------  ----- \n",
      " 0   test_date            50000 non-null  object\n",
      " 1   cough                50000 non-null  int64 \n",
      " 2   fever                50000 non-null  int64 \n",
      " 3   sore_throat          50000 non-null  int64 \n",
      " 4   shortness_of_breath  50000 non-null  int64 \n",
      " 5   head_ache            50000 non-null  int64 \n",
      " 6   corona_result        50000 non-null  object\n",
      " 7   age_60_and_above     50000 non-null  object\n",
      " 8   gender               50000 non-null  object\n",
      " 9   test_indication      50000 non-null  object\n",
      "dtypes: int64(5), object(5)\n",
      "memory usage: 3.8+ MB\n"
     ]
    }
   ],
   "source": [
    "data.info()"
   ]
  },
  {
   "cell_type": "code",
   "execution_count": 6,
   "id": "967e4aaf",
   "metadata": {},
   "outputs": [
    {
     "data": {
      "text/plain": [
       "test_date              0\n",
       "cough                  0\n",
       "fever                  0\n",
       "sore_throat            0\n",
       "shortness_of_breath    0\n",
       "head_ache              0\n",
       "corona_result          0\n",
       "age_60_and_above       0\n",
       "gender                 0\n",
       "test_indication        0\n",
       "dtype: int64"
      ]
     },
     "execution_count": 6,
     "metadata": {},
     "output_type": "execute_result"
    }
   ],
   "source": [
    "data.isnull().sum()"
   ]
  },
  {
   "cell_type": "code",
   "execution_count": 7,
   "id": "d5ce1157",
   "metadata": {},
   "outputs": [
    {
     "data": {
      "text/plain": [
       "['test_date',\n",
       " 'cough',\n",
       " 'fever',\n",
       " 'sore_throat',\n",
       " 'shortness_of_breath',\n",
       " 'head_ache',\n",
       " 'corona_result',\n",
       " 'age_60_and_above',\n",
       " 'gender',\n",
       " 'test_indication']"
      ]
     },
     "execution_count": 7,
     "metadata": {},
     "output_type": "execute_result"
    }
   ],
   "source": [
    "col=list(data.columns)\n",
    "col"
   ]
  },
  {
   "cell_type": "code",
   "execution_count": 8,
   "id": "61e463af",
   "metadata": {},
   "outputs": [
    {
     "data": {
      "image/png": "[encoded data removed]",
      "text/plain": [
       "<Figure size 432x288 with 1 Axes>"
      ]
     },
     "metadata": {
      "needs_background": "light"
     },
     "output_type": "display_data"
    },
    {
     "data": {
      "image/png": "[encoded data removed]",
      "text/plain": [
       "<Figure size 432x288 with 1 Axes>"
      ]
     },
     "metadata": {
      "needs_background": "light"
     },
     "output_type": "display_data"
    },
    {
     "data": {
      "image/png": "[encoded data removed]",
      "text/plain": [
       "<Figure size 432x288 with 1 Axes>"
      ]
     },
     "metadata": {
      "needs_background": "light"
     },
     "output_type": "display_data"
    },
    {
     "data": {
      "image/png": "[encoded data removed]",
      "text/plain": [
       "<Figure size 432x288 with 1 Axes>"
      ]
     },
     "metadata": {
      "needs_background": "light"
     },
     "output_type": "display_data"
    },
    {
     "data": {
      "image/png": "[encoded data removed]",
      "text/plain": [
       "<Figure size 432x288 with 1 Axes>"
      ]
     },
     "metadata": {
      "needs_background": "light"
     },
     "output_type": "display_data"
    }
   ],
   "source": [
    "for col_name in col:\n",
    "    if(data[col_name].dtypes=='int64' or data[col_name].dtypes=='float64'):\n",
    "        sns.boxplot(data[col_name])\n",
    "        plt.xlabel(col_name)\n",
    "        plt.ylabel('count')\n",
    "        plt.show()"
   ]
  },
  {
   "cell_type": "code",
   "execution_count": 9,
   "id": "4709e70f",
   "metadata": {},
   "outputs": [
    {
     "data": {
      "text/plain": [
       "cough\n",
       "0    49307\n",
       "1      693\n",
       "Name: count, dtype: int64"
      ]
     },
     "execution_count": 9,
     "metadata": {},
     "output_type": "execute_result"
    }
   ],
   "source": [
    "data['cough'].value_counts()"
   ]
  },
  {
   "cell_type": "code",
   "execution_count": 10,
   "id": "ca148d50",
   "metadata": {},
   "outputs": [
    {
     "data": {
      "text/plain": [
       "test_indication\n",
       "Other                     48722\n",
       "Contact with confirmed     1241\n",
       "Abroad                       37\n",
       "Name: count, dtype: int64"
      ]
     },
     "execution_count": 10,
     "metadata": {},
     "output_type": "execute_result"
    }
   ],
   "source": [
    "data['test_indication'].value_counts()\n"
   ]
  },
  {
   "cell_type": "code",
   "execution_count": 11,
   "id": "d02d9c73",
   "metadata": {},
   "outputs": [
    {
     "data": {
      "text/plain": [
       "test_date              object\n",
       "cough                   int64\n",
       "fever                   int64\n",
       "sore_throat             int64\n",
       "shortness_of_breath     int64\n",
       "head_ache               int64\n",
       "corona_result          object\n",
       "age_60_and_above       object\n",
       "gender                 object\n",
       "test_indication        object\n",
       "dtype: object"
      ]
     },
     "execution_count": 11,
     "metadata": {},
     "output_type": "execute_result"
    }
   ],
   "source": [
    "data.dtypes"
   ]
  },
  {
   "cell_type": "code",
   "execution_count": 12,
   "id": "97501a1a",
   "metadata": {},
   "outputs": [],
   "source": [
    "data[['test_date','corona_result','age_60_and_above','gender','test_indication']] = data[['test_date','corona_result','age_60_and_above','gender','test_indication']].astype('category')\n",
    "data['test_date'] = data['test_date'].cat.codes\n",
    "data['corona_result'] = data['corona_result'].cat.codes\n",
    "data['age_60_and_above'] = data['age_60_and_above'].cat.codes\n",
    "data['gender'] = data['gender'].cat.codes\n",
    "data['test_indication'] = data['test_indication'].cat.codes"
   ]
  },
  {
   "cell_type": "code",
   "execution_count": 13,
   "id": "cde63958",
   "metadata": {},
   "outputs": [
    {
     "data": {
      "text/html": [
       "<div>\n",
       "<style scoped>\n",
       "    .dataframe tbody tr th:only-of-type {\n",
       "        vertical-align: middle;\n",
       "    }\n",
       "\n",
       "    .dataframe tbody tr th {\n",
       "        vertical-align: top;\n",
       "    }\n",
       "\n",
       "    .dataframe thead th {\n",
       "        text-align: right;\n",
       "    }\n",
       "</style>\n",
       "<table border=\"1\" class=\"dataframe\">\n",
       "  <thead>\n",
       "    <tr style=\"text-align: right;\">\n",
       "      <th></th>\n",
       "      <th>test_date</th>\n",
       "      <th>cough</th>\n",
       "      <th>fever</th>\n",
       "      <th>sore_throat</th>\n",
       "      <th>shortness_of_breath</th>\n",
       "      <th>head_ache</th>\n",
       "      <th>corona_result</th>\n",
       "      <th>age_60_and_above</th>\n",
       "      <th>gender</th>\n",
       "      <th>test_indication</th>\n",
       "    </tr>\n",
       "  </thead>\n",
       "  <tbody>\n",
       "    <tr>\n",
       "      <th>0</th>\n",
       "      <td>4</td>\n",
       "      <td>0</td>\n",
       "      <td>0</td>\n",
       "      <td>0</td>\n",
       "      <td>0</td>\n",
       "      <td>0</td>\n",
       "      <td>0</td>\n",
       "      <td>1</td>\n",
       "      <td>0</td>\n",
       "      <td>2</td>\n",
       "    </tr>\n",
       "    <tr>\n",
       "      <th>1</th>\n",
       "      <td>4</td>\n",
       "      <td>0</td>\n",
       "      <td>0</td>\n",
       "      <td>0</td>\n",
       "      <td>0</td>\n",
       "      <td>0</td>\n",
       "      <td>0</td>\n",
       "      <td>1</td>\n",
       "      <td>1</td>\n",
       "      <td>2</td>\n",
       "    </tr>\n",
       "    <tr>\n",
       "      <th>2</th>\n",
       "      <td>4</td>\n",
       "      <td>0</td>\n",
       "      <td>0</td>\n",
       "      <td>0</td>\n",
       "      <td>0</td>\n",
       "      <td>0</td>\n",
       "      <td>0</td>\n",
       "      <td>0</td>\n",
       "      <td>0</td>\n",
       "      <td>2</td>\n",
       "    </tr>\n",
       "    <tr>\n",
       "      <th>3</th>\n",
       "      <td>4</td>\n",
       "      <td>0</td>\n",
       "      <td>0</td>\n",
       "      <td>0</td>\n",
       "      <td>0</td>\n",
       "      <td>0</td>\n",
       "      <td>0</td>\n",
       "      <td>1</td>\n",
       "      <td>0</td>\n",
       "      <td>2</td>\n",
       "    </tr>\n",
       "    <tr>\n",
       "      <th>4</th>\n",
       "      <td>4</td>\n",
       "      <td>0</td>\n",
       "      <td>0</td>\n",
       "      <td>0</td>\n",
       "      <td>0</td>\n",
       "      <td>0</td>\n",
       "      <td>0</td>\n",
       "      <td>1</td>\n",
       "      <td>0</td>\n",
       "      <td>2</td>\n",
       "    </tr>\n",
       "    <tr>\n",
       "      <th>...</th>\n",
       "      <td>...</td>\n",
       "      <td>...</td>\n",
       "      <td>...</td>\n",
       "      <td>...</td>\n",
       "      <td>...</td>\n",
       "      <td>...</td>\n",
       "      <td>...</td>\n",
       "      <td>...</td>\n",
       "      <td>...</td>\n",
       "      <td>...</td>\n",
       "    </tr>\n",
       "    <tr>\n",
       "      <th>49995</th>\n",
       "      <td>0</td>\n",
       "      <td>0</td>\n",
       "      <td>0</td>\n",
       "      <td>0</td>\n",
       "      <td>0</td>\n",
       "      <td>0</td>\n",
       "      <td>0</td>\n",
       "      <td>0</td>\n",
       "      <td>1</td>\n",
       "      <td>2</td>\n",
       "    </tr>\n",
       "    <tr>\n",
       "      <th>49996</th>\n",
       "      <td>0</td>\n",
       "      <td>0</td>\n",
       "      <td>0</td>\n",
       "      <td>0</td>\n",
       "      <td>0</td>\n",
       "      <td>0</td>\n",
       "      <td>0</td>\n",
       "      <td>0</td>\n",
       "      <td>1</td>\n",
       "      <td>2</td>\n",
       "    </tr>\n",
       "    <tr>\n",
       "      <th>49997</th>\n",
       "      <td>0</td>\n",
       "      <td>0</td>\n",
       "      <td>0</td>\n",
       "      <td>0</td>\n",
       "      <td>0</td>\n",
       "      <td>0</td>\n",
       "      <td>0</td>\n",
       "      <td>0</td>\n",
       "      <td>1</td>\n",
       "      <td>2</td>\n",
       "    </tr>\n",
       "    <tr>\n",
       "      <th>49998</th>\n",
       "      <td>0</td>\n",
       "      <td>0</td>\n",
       "      <td>0</td>\n",
       "      <td>0</td>\n",
       "      <td>0</td>\n",
       "      <td>0</td>\n",
       "      <td>0</td>\n",
       "      <td>0</td>\n",
       "      <td>1</td>\n",
       "      <td>2</td>\n",
       "    </tr>\n",
       "    <tr>\n",
       "      <th>49999</th>\n",
       "      <td>0</td>\n",
       "      <td>0</td>\n",
       "      <td>0</td>\n",
       "      <td>0</td>\n",
       "      <td>0</td>\n",
       "      <td>0</td>\n",
       "      <td>0</td>\n",
       "      <td>0</td>\n",
       "      <td>1</td>\n",
       "      <td>2</td>\n",
       "    </tr>\n",
       "  </tbody>\n",
       "</table>\n",
       "<p>50000 rows × 10 columns</p>\n",
       "</div>"
      ],
      "text/plain": [
       "       test_date  cough  fever  sore_throat  shortness_of_breath  head_ache  \\\n",
       "0              4      0      0            0                    0          0   \n",
       "1              4      0      0            0                    0          0   \n",
       "2              4      0      0            0                    0          0   \n",
       "3              4      0      0            0                    0          0   \n",
       "4              4      0      0            0                    0          0   \n",
       "...          ...    ...    ...          ...                  ...        ...   \n",
       "49995          0      0      0            0                    0          0   \n",
       "49996          0      0      0            0                    0          0   \n",
       "49997          0      0      0            0                    0          0   \n",
       "49998          0      0      0            0                    0          0   \n",
       "49999          0      0      0            0                    0          0   \n",
       "\n",
       "       corona_result  age_60_and_above  gender  test_indication  \n",
       "0                  0                 1       0                2  \n",
       "1                  0                 1       1                2  \n",
       "2                  0                 0       0                2  \n",
       "3                  0                 1       0                2  \n",
       "4                  0                 1       0                2  \n",
       "...              ...               ...     ...              ...  \n",
       "49995              0                 0       1                2  \n",
       "49996              0                 0       1                2  \n",
       "49997              0                 0       1                2  \n",
       "49998              0                 0       1                2  \n",
       "49999              0                 0       1                2  \n",
       "\n",
       "[50000 rows x 10 columns]"
      ]
     },
     "execution_count": 13,
     "metadata": {},
     "output_type": "execute_result"
    }
   ],
   "source": [
    "data"
   ]
  },
  {
   "cell_type": "code",
   "execution_count": 14,
   "id": "094734ce",
   "metadata": {},
   "outputs": [
    {
     "data": {
      "text/plain": [
       "test_date               int8\n",
       "cough                  int64\n",
       "fever                  int64\n",
       "sore_throat            int64\n",
       "shortness_of_breath    int64\n",
       "head_ache              int64\n",
       "corona_result           int8\n",
       "age_60_and_above        int8\n",
       "gender                  int8\n",
       "test_indication         int8\n",
       "dtype: object"
      ]
     },
     "execution_count": 14,
     "metadata": {},
     "output_type": "execute_result"
    }
   ],
   "source": [
    "data.dtypes"
   ]
  },
  {
   "cell_type": "code",
   "execution_count": 15,
   "id": "5e632cc5",
   "metadata": {
    "scrolled": true
   },
   "outputs": [
    {
     "name": "stdout",
     "output_type": "stream",
     "text": [
      "               feature       VIF\n",
      "0            test_date  3.162867\n",
      "1                cough  1.308749\n",
      "2                fever  1.303489\n",
      "3          sore_throat  1.200411\n",
      "4  shortness_of_breath  1.064266\n",
      "5            head_ache  1.297359\n",
      "6     age_60_and_above  1.154182\n",
      "7               gender  1.857304\n",
      "8      test_indication  4.183418\n"
     ]
    }
   ],
   "source": [
    "from statsmodels.stats.outliers_influence import variance_inflation_factor\n",
    "\n",
    "col_list = []\n",
    "for col in data.columns:\n",
    "    if (col !='corona_result'):\n",
    "        col_list.append(col)\n",
    "\n",
    "X = data[col_list]\n",
    "vif_data = pd.DataFrame() \n",
    "vif_data[\"feature\"] = X.columns \n",
    "vif_data[\"VIF\"] = [variance_inflation_factor(X.values, i) for i in range(len(X.columns))] \n",
    "print(vif_data)"
   ]
  },
  {
   "cell_type": "code",
   "execution_count": 16,
   "id": "21c4c31f",
   "metadata": {},
   "outputs": [
    {
     "data": {
      "text/html": [
       "<div>\n",
       "<style scoped>\n",
       "    .dataframe tbody tr th:only-of-type {\n",
       "        vertical-align: middle;\n",
       "    }\n",
       "\n",
       "    .dataframe tbody tr th {\n",
       "        vertical-align: top;\n",
       "    }\n",
       "\n",
       "    .dataframe thead th {\n",
       "        text-align: right;\n",
       "    }\n",
       "</style>\n",
       "<table border=\"1\" class=\"dataframe\">\n",
       "  <thead>\n",
       "    <tr style=\"text-align: right;\">\n",
       "      <th></th>\n",
       "      <th>test_date</th>\n",
       "      <th>cough</th>\n",
       "      <th>fever</th>\n",
       "      <th>sore_throat</th>\n",
       "      <th>shortness_of_breath</th>\n",
       "      <th>head_ache</th>\n",
       "      <th>corona_result</th>\n",
       "      <th>age_60_and_above</th>\n",
       "      <th>gender</th>\n",
       "    </tr>\n",
       "  </thead>\n",
       "  <tbody>\n",
       "    <tr>\n",
       "      <th>0</th>\n",
       "      <td>4</td>\n",
       "      <td>0</td>\n",
       "      <td>0</td>\n",
       "      <td>0</td>\n",
       "      <td>0</td>\n",
       "      <td>0</td>\n",
       "      <td>0</td>\n",
       "      <td>1</td>\n",
       "      <td>0</td>\n",
       "    </tr>\n",
       "    <tr>\n",
       "      <th>1</th>\n",
       "      <td>4</td>\n",
       "      <td>0</td>\n",
       "      <td>0</td>\n",
       "      <td>0</td>\n",
       "      <td>0</td>\n",
       "      <td>0</td>\n",
       "      <td>0</td>\n",
       "      <td>1</td>\n",
       "      <td>1</td>\n",
       "    </tr>\n",
       "    <tr>\n",
       "      <th>2</th>\n",
       "      <td>4</td>\n",
       "      <td>0</td>\n",
       "      <td>0</td>\n",
       "      <td>0</td>\n",
       "      <td>0</td>\n",
       "      <td>0</td>\n",
       "      <td>0</td>\n",
       "      <td>0</td>\n",
       "      <td>0</td>\n",
       "    </tr>\n",
       "    <tr>\n",
       "      <th>3</th>\n",
       "      <td>4</td>\n",
       "      <td>0</td>\n",
       "      <td>0</td>\n",
       "      <td>0</td>\n",
       "      <td>0</td>\n",
       "      <td>0</td>\n",
       "      <td>0</td>\n",
       "      <td>1</td>\n",
       "      <td>0</td>\n",
       "    </tr>\n",
       "    <tr>\n",
       "      <th>4</th>\n",
       "      <td>4</td>\n",
       "      <td>0</td>\n",
       "      <td>0</td>\n",
       "      <td>0</td>\n",
       "      <td>0</td>\n",
       "      <td>0</td>\n",
       "      <td>0</td>\n",
       "      <td>1</td>\n",
       "      <td>0</td>\n",
       "    </tr>\n",
       "    <tr>\n",
       "      <th>...</th>\n",
       "      <td>...</td>\n",
       "      <td>...</td>\n",
       "      <td>...</td>\n",
       "      <td>...</td>\n",
       "      <td>...</td>\n",
       "      <td>...</td>\n",
       "      <td>...</td>\n",
       "      <td>...</td>\n",
       "      <td>...</td>\n",
       "    </tr>\n",
       "    <tr>\n",
       "      <th>49995</th>\n",
       "      <td>0</td>\n",
       "      <td>0</td>\n",
       "      <td>0</td>\n",
       "      <td>0</td>\n",
       "      <td>0</td>\n",
       "      <td>0</td>\n",
       "      <td>0</td>\n",
       "      <td>0</td>\n",
       "      <td>1</td>\n",
       "    </tr>\n",
       "    <tr>\n",
       "      <th>49996</th>\n",
       "      <td>0</td>\n",
       "      <td>0</td>\n",
       "      <td>0</td>\n",
       "      <td>0</td>\n",
       "      <td>0</td>\n",
       "      <td>0</td>\n",
       "      <td>0</td>\n",
       "      <td>0</td>\n",
       "      <td>1</td>\n",
       "    </tr>\n",
       "    <tr>\n",
       "      <th>49997</th>\n",
       "      <td>0</td>\n",
       "      <td>0</td>\n",
       "      <td>0</td>\n",
       "      <td>0</td>\n",
       "      <td>0</td>\n",
       "      <td>0</td>\n",
       "      <td>0</td>\n",
       "      <td>0</td>\n",
       "      <td>1</td>\n",
       "    </tr>\n",
       "    <tr>\n",
       "      <th>49998</th>\n",
       "      <td>0</td>\n",
       "      <td>0</td>\n",
       "      <td>0</td>\n",
       "      <td>0</td>\n",
       "      <td>0</td>\n",
       "      <td>0</td>\n",
       "      <td>0</td>\n",
       "      <td>0</td>\n",
       "      <td>1</td>\n",
       "    </tr>\n",
       "    <tr>\n",
       "      <th>49999</th>\n",
       "      <td>0</td>\n",
       "      <td>0</td>\n",
       "      <td>0</td>\n",
       "      <td>0</td>\n",
       "      <td>0</td>\n",
       "      <td>0</td>\n",
       "      <td>0</td>\n",
       "      <td>0</td>\n",
       "      <td>1</td>\n",
       "    </tr>\n",
       "  </tbody>\n",
       "</table>\n",
       "<p>50000 rows × 9 columns</p>\n",
       "</div>"
      ],
      "text/plain": [
       "       test_date  cough  fever  sore_throat  shortness_of_breath  head_ache  \\\n",
       "0              4      0      0            0                    0          0   \n",
       "1              4      0      0            0                    0          0   \n",
       "2              4      0      0            0                    0          0   \n",
       "3              4      0      0            0                    0          0   \n",
       "4              4      0      0            0                    0          0   \n",
       "...          ...    ...    ...          ...                  ...        ...   \n",
       "49995          0      0      0            0                    0          0   \n",
       "49996          0      0      0            0                    0          0   \n",
       "49997          0      0      0            0                    0          0   \n",
       "49998          0      0      0            0                    0          0   \n",
       "49999          0      0      0            0                    0          0   \n",
       "\n",
       "       corona_result  age_60_and_above  gender  \n",
       "0                  0                 1       0  \n",
       "1                  0                 1       1  \n",
       "2                  0                 0       0  \n",
       "3                  0                 1       0  \n",
       "4                  0                 1       0  \n",
       "...              ...               ...     ...  \n",
       "49995              0                 0       1  \n",
       "49996              0                 0       1  \n",
       "49997              0                 0       1  \n",
       "49998              0                 0       1  \n",
       "49999              0                 0       1  \n",
       "\n",
       "[50000 rows x 9 columns]"
      ]
     },
     "execution_count": 16,
     "metadata": {},
     "output_type": "execute_result"
    }
   ],
   "source": [
    "data.drop(columns=['test_indication'],axis=1,inplace=True)\n",
    "data"
   ]
  },
  {
   "cell_type": "code",
   "execution_count": 17,
   "id": "2e4ba6f2",
   "metadata": {},
   "outputs": [
    {
     "data": {
      "text/plain": [
       "Index(['test_date', 'cough', 'fever', 'sore_throat', 'shortness_of_breath',\n",
       "       'head_ache', 'corona_result', 'age_60_and_above', 'gender'],\n",
       "      dtype='object')"
      ]
     },
     "execution_count": 17,
     "metadata": {},
     "output_type": "execute_result"
    }
   ],
   "source": [
    "data.columns"
   ]
  },
  {
   "cell_type": "code",
   "execution_count": 18,
   "id": "7c9ea508",
   "metadata": {},
   "outputs": [
    {
     "name": "stdout",
     "output_type": "stream",
     "text": [
      "               feature       VIF\n",
      "0            test_date  1.538414\n",
      "1                cough  1.308726\n",
      "2                fever  1.303446\n",
      "3          sore_throat  1.200254\n",
      "4  shortness_of_breath  1.064198\n",
      "5            head_ache  1.296705\n",
      "6     age_60_and_above  1.122845\n",
      "7               gender  1.439778\n"
     ]
    }
   ],
   "source": [
    "col_list = []\n",
    "for col in data.columns:\n",
    "    if (col !='corona_result'):\n",
    "        col_list.append(col)\n",
    "\n",
    "X = data[col_list]\n",
    "vif_data = pd.DataFrame() \n",
    "vif_data[\"feature\"] = X.columns \n",
    "vif_data[\"VIF\"] = [variance_inflation_factor(X.values, i) for i in range(len(X.columns))] \n",
    "print(vif_data)"
   ]
  },
  {
   "cell_type": "code",
   "execution_count": 19,
   "id": "ae4089a4",
   "metadata": {},
   "outputs": [
    {
     "data": {
      "text/html": [
       "<div>\n",
       "<style scoped>\n",
       "    .dataframe tbody tr th:only-of-type {\n",
       "        vertical-align: middle;\n",
       "    }\n",
       "\n",
       "    .dataframe tbody tr th {\n",
       "        vertical-align: top;\n",
       "    }\n",
       "\n",
       "    .dataframe thead th {\n",
       "        text-align: right;\n",
       "    }\n",
       "</style>\n",
       "<table border=\"1\" class=\"dataframe\">\n",
       "  <thead>\n",
       "    <tr style=\"text-align: right;\">\n",
       "      <th></th>\n",
       "      <th>cough</th>\n",
       "      <th>fever</th>\n",
       "      <th>sore_throat</th>\n",
       "      <th>shortness_of_breath</th>\n",
       "      <th>head_ache</th>\n",
       "      <th>corona_result</th>\n",
       "      <th>age_60_and_above</th>\n",
       "      <th>gender</th>\n",
       "    </tr>\n",
       "  </thead>\n",
       "  <tbody>\n",
       "    <tr>\n",
       "      <th>0</th>\n",
       "      <td>0</td>\n",
       "      <td>0</td>\n",
       "      <td>0</td>\n",
       "      <td>0</td>\n",
       "      <td>0</td>\n",
       "      <td>0</td>\n",
       "      <td>1</td>\n",
       "      <td>0</td>\n",
       "    </tr>\n",
       "    <tr>\n",
       "      <th>1</th>\n",
       "      <td>0</td>\n",
       "      <td>0</td>\n",
       "      <td>0</td>\n",
       "      <td>0</td>\n",
       "      <td>0</td>\n",
       "      <td>0</td>\n",
       "      <td>1</td>\n",
       "      <td>1</td>\n",
       "    </tr>\n",
       "    <tr>\n",
       "      <th>2</th>\n",
       "      <td>0</td>\n",
       "      <td>0</td>\n",
       "      <td>0</td>\n",
       "      <td>0</td>\n",
       "      <td>0</td>\n",
       "      <td>0</td>\n",
       "      <td>0</td>\n",
       "      <td>0</td>\n",
       "    </tr>\n",
       "    <tr>\n",
       "      <th>3</th>\n",
       "      <td>0</td>\n",
       "      <td>0</td>\n",
       "      <td>0</td>\n",
       "      <td>0</td>\n",
       "      <td>0</td>\n",
       "      <td>0</td>\n",
       "      <td>1</td>\n",
       "      <td>0</td>\n",
       "    </tr>\n",
       "    <tr>\n",
       "      <th>4</th>\n",
       "      <td>0</td>\n",
       "      <td>0</td>\n",
       "      <td>0</td>\n",
       "      <td>0</td>\n",
       "      <td>0</td>\n",
       "      <td>0</td>\n",
       "      <td>1</td>\n",
       "      <td>0</td>\n",
       "    </tr>\n",
       "    <tr>\n",
       "      <th>...</th>\n",
       "      <td>...</td>\n",
       "      <td>...</td>\n",
       "      <td>...</td>\n",
       "      <td>...</td>\n",
       "      <td>...</td>\n",
       "      <td>...</td>\n",
       "      <td>...</td>\n",
       "      <td>...</td>\n",
       "    </tr>\n",
       "    <tr>\n",
       "      <th>49995</th>\n",
       "      <td>0</td>\n",
       "      <td>0</td>\n",
       "      <td>0</td>\n",
       "      <td>0</td>\n",
       "      <td>0</td>\n",
       "      <td>0</td>\n",
       "      <td>0</td>\n",
       "      <td>1</td>\n",
       "    </tr>\n",
       "    <tr>\n",
       "      <th>49996</th>\n",
       "      <td>0</td>\n",
       "      <td>0</td>\n",
       "      <td>0</td>\n",
       "      <td>0</td>\n",
       "      <td>0</td>\n",
       "      <td>0</td>\n",
       "      <td>0</td>\n",
       "      <td>1</td>\n",
       "    </tr>\n",
       "    <tr>\n",
       "      <th>49997</th>\n",
       "      <td>0</td>\n",
       "      <td>0</td>\n",
       "      <td>0</td>\n",
       "      <td>0</td>\n",
       "      <td>0</td>\n",
       "      <td>0</td>\n",
       "      <td>0</td>\n",
       "      <td>1</td>\n",
       "    </tr>\n",
       "    <tr>\n",
       "      <th>49998</th>\n",
       "      <td>0</td>\n",
       "      <td>0</td>\n",
       "      <td>0</td>\n",
       "      <td>0</td>\n",
       "      <td>0</td>\n",
       "      <td>0</td>\n",
       "      <td>0</td>\n",
       "      <td>1</td>\n",
       "    </tr>\n",
       "    <tr>\n",
       "      <th>49999</th>\n",
       "      <td>0</td>\n",
       "      <td>0</td>\n",
       "      <td>0</td>\n",
       "      <td>0</td>\n",
       "      <td>0</td>\n",
       "      <td>0</td>\n",
       "      <td>0</td>\n",
       "      <td>1</td>\n",
       "    </tr>\n",
       "  </tbody>\n",
       "</table>\n",
       "<p>50000 rows × 8 columns</p>\n",
       "</div>"
      ],
      "text/plain": [
       "       cough  fever  sore_throat  shortness_of_breath  head_ache  \\\n",
       "0          0      0            0                    0          0   \n",
       "1          0      0            0                    0          0   \n",
       "2          0      0            0                    0          0   \n",
       "3          0      0            0                    0          0   \n",
       "4          0      0            0                    0          0   \n",
       "...      ...    ...          ...                  ...        ...   \n",
       "49995      0      0            0                    0          0   \n",
       "49996      0      0            0                    0          0   \n",
       "49997      0      0            0                    0          0   \n",
       "49998      0      0            0                    0          0   \n",
       "49999      0      0            0                    0          0   \n",
       "\n",
       "       corona_result  age_60_and_above  gender  \n",
       "0                  0                 1       0  \n",
       "1                  0                 1       1  \n",
       "2                  0                 0       0  \n",
       "3                  0                 1       0  \n",
       "4                  0                 1       0  \n",
       "...              ...               ...     ...  \n",
       "49995              0                 0       1  \n",
       "49996              0                 0       1  \n",
       "49997              0                 0       1  \n",
       "49998              0                 0       1  \n",
       "49999              0                 0       1  \n",
       "\n",
       "[50000 rows x 8 columns]"
      ]
     },
     "execution_count": 19,
     "metadata": {},
     "output_type": "execute_result"
    }
   ],
   "source": [
    "data.drop(columns=['test_date'],axis=1,inplace=True)\n",
    "data"
   ]
  },
  {
   "cell_type": "code",
   "execution_count": 20,
   "id": "286d25b1",
   "metadata": {},
   "outputs": [
    {
     "name": "stdout",
     "output_type": "stream",
     "text": [
      "               feature       VIF\n",
      "0                cough  1.307566\n",
      "1                fever  1.302389\n",
      "2          sore_throat  1.200022\n",
      "3  shortness_of_breath  1.064178\n",
      "4            head_ache  1.295586\n",
      "5     age_60_and_above  1.053507\n",
      "6               gender  1.062303\n"
     ]
    }
   ],
   "source": [
    "col_list = []\n",
    "for col in data.columns:\n",
    "    if (col !='corona_result'):\n",
    "        col_list.append(col)\n",
    "\n",
    "X = data[col_list]\n",
    "vif_data = pd.DataFrame() \n",
    "vif_data[\"feature\"] = X.columns \n",
    "vif_data[\"VIF\"] = [variance_inflation_factor(X.values, i) for i in range(len(X.columns))] \n",
    "print(vif_data)"
   ]
  },
  {
   "cell_type": "code",
   "execution_count": 21,
   "id": "efe2e576",
   "metadata": {},
   "outputs": [],
   "source": [
    "x=data.drop(\"corona_result\",axis=1)\n",
    "y=data[\"corona_result\"]"
   ]
  },
  {
   "cell_type": "code",
   "execution_count": 22,
   "id": "73264fe9",
   "metadata": {},
   "outputs": [],
   "source": [
    "from sklearn.model_selection import train_test_split"
   ]
  },
  {
   "cell_type": "code",
   "execution_count": 23,
   "id": "4ab76763",
   "metadata": {},
   "outputs": [],
   "source": [
    "x_train,x_test,y_train,y_test=train_test_split(x,y,test_size=0.3,random_state=1)"
   ]
  },
  {
   "cell_type": "code",
   "execution_count": 24,
   "id": "a183dc20",
   "metadata": {},
   "outputs": [],
   "source": [
    "from sklearn.preprocessing import StandardScaler    \n",
    "st_x= StandardScaler()    \n",
    "x_train= st_x.fit_transform(x_train.values)    \n",
    "x_test= st_x.transform(x_test.values) "
   ]
  },
  {
   "cell_type": "code",
   "execution_count": 25,
   "id": "abd816fd",
   "metadata": {},
   "outputs": [
    {
     "data": {
      "text/plain": [
       "LogisticRegression()"
      ]
     },
     "execution_count": 25,
     "metadata": {},
     "output_type": "execute_result"
    }
   ],
   "source": [
    "from sklearn.linear_model import LogisticRegression  \n",
    "classifier= LogisticRegression()  \n",
    "classifier.fit(x_train, y_train)  "
   ]
  },
  {
   "cell_type": "code",
   "execution_count": 26,
   "id": "e6e705f1",
   "metadata": {},
   "outputs": [],
   "source": [
    "predictions=classifier.predict(x_test)"
   ]
  },
  {
   "cell_type": "code",
   "execution_count": 27,
   "id": "7e13c2da",
   "metadata": {},
   "outputs": [],
   "source": [
    "from sklearn.metrics import classification_report"
   ]
  },
  {
   "cell_type": "code",
   "execution_count": 28,
   "id": "8ba704e5",
   "metadata": {},
   "outputs": [
    {
     "data": {
      "text/plain": [
       "'              precision    recall  f1-score   support\\n\\n           0       0.96      1.00      0.98     14272\\n           1       0.76      0.22      0.34       728\\n\\n    accuracy                           0.96     15000\\n   macro avg       0.86      0.61      0.66     15000\\nweighted avg       0.95      0.96      0.95     15000\\n'"
      ]
     },
     "execution_count": 28,
     "metadata": {},
     "output_type": "execute_result"
    }
   ],
   "source": [
    "classification_report(y_test,predictions)"
   ]
  },
  {
   "cell_type": "code",
   "execution_count": 29,
   "id": "150b53df",
   "metadata": {},
   "outputs": [
    {
     "data": {
      "text/plain": [
       "array([[14222,    50],\n",
       "       [  569,   159]], dtype=int64)"
      ]
     },
     "execution_count": 29,
     "metadata": {},
     "output_type": "execute_result"
    }
   ],
   "source": [
    "from sklearn.metrics import confusion_matrix\n",
    "confusion_matrix(y_test,predictions)"
   ]
  },
  {
   "cell_type": "code",
   "execution_count": 30,
   "id": "b539ba49",
   "metadata": {},
   "outputs": [
    {
     "data": {
      "text/plain": [
       "0.9587333333333333"
      ]
     },
     "execution_count": 30,
     "metadata": {},
     "output_type": "execute_result"
    }
   ],
   "source": [
    "from sklearn.metrics import accuracy_score\n",
    "accuracy_score(y_test,predictions)"
   ]
  },
  {
   "cell_type": "code",
   "execution_count": 31,
   "id": "b9ed8a7c",
   "metadata": {},
   "outputs": [
    {
     "data": {
      "text/plain": [
       "0.9517868605170371"
      ]
     },
     "execution_count": 31,
     "metadata": {},
     "output_type": "execute_result"
    }
   ],
   "source": [
    "from sklearn.metrics import precision_score\n",
    "precision_score(y_test,predictions, average='weighted')"
   ]
  },
  {
   "cell_type": "code",
   "execution_count": 32,
   "id": "e70c144a",
   "metadata": {},
   "outputs": [
    {
     "data": {
      "text/plain": [
       "0.9476730897473885"
      ]
     },
     "execution_count": 32,
     "metadata": {},
     "output_type": "execute_result"
    }
   ],
   "source": [
    "from sklearn.metrics import f1_score\n",
    "f1_score(y_test,predictions, average='weighted')\n"
   ]
  },
  {
   "cell_type": "code",
   "execution_count": 33,
   "id": "7471dd95",
   "metadata": {},
   "outputs": [
    {
     "data": {
      "text/plain": [
       "0.9587333333333333"
      ]
     },
     "execution_count": 33,
     "metadata": {},
     "output_type": "execute_result"
    }
   ],
   "source": [
    "from sklearn.metrics import recall_score\n",
    "recall_score(y_test, predictions, average='weighted')"
   ]
  },
  {
   "cell_type": "code",
   "execution_count": 34,
   "id": "e1d19d90",
   "metadata": {},
   "outputs": [
    {
     "data": {
      "text/plain": [
       "(50000, 8)"
      ]
     },
     "execution_count": 34,
     "metadata": {},
     "output_type": "execute_result"
    }
   ],
   "source": [
    "data.shape"
   ]
  },
  {
   "cell_type": "markdown",
   "id": "724f99f0",
   "metadata": {},
   "source": [
    "###SVM"
   ]
  },
  {
   "cell_type": "code",
   "execution_count": 35,
   "id": "3d540e1d",
   "metadata": {},
   "outputs": [
    {
     "data": {
      "text/plain": [
       "array([-0.11965095, -0.12623659, -0.08204093, -0.0410921 , -0.11816822,\n",
       "       -0.38141234, -0.92609442])"
      ]
     },
     "execution_count": 35,
     "metadata": {},
     "output_type": "execute_result"
    }
   ],
   "source": [
    "x_test[0]"
   ]
  },
  {
   "cell_type": "code",
   "execution_count": 36,
   "id": "cc0e5ced",
   "metadata": {},
   "outputs": [],
   "source": [
    "x = np.array([1,1,0,1,0,1,1])  # Example input data\n",
    "x = np.reshape(x, (1, -1))\n",
    "x= st_x.transform(x)"
   ]
  },
  {
   "cell_type": "code",
   "execution_count": 37,
   "id": "deae17ea",
   "metadata": {},
   "outputs": [],
   "source": [
    "y=classifier.predict(x)"
   ]
  },
  {
   "cell_type": "code",
   "execution_count": 38,
   "id": "c7b2cbd0",
   "metadata": {},
   "outputs": [],
   "source": [
    "from sklearn import svm\n",
    "\n",
    "classifier=svm.SVC(kernel='linear',gamma='auto',C=2)\n",
    "classifier.fit(x_train,y_train)\n",
    "y_predict=classifier.predict(x_test)"
   ]
  },
  {
   "cell_type": "code",
   "execution_count": 39,
   "id": "45b14968",
   "metadata": {},
   "outputs": [
    {
     "name": "stdout",
     "output_type": "stream",
     "text": [
      "[1]\n"
     ]
    }
   ],
   "source": [
    "print(y)"
   ]
  },
  {
   "cell_type": "code",
   "execution_count": 40,
   "id": "267377b4",
   "metadata": {},
   "outputs": [
    {
     "data": {
      "text/plain": [
       "'              precision    recall  f1-score   support\\n\\n           0       0.97      0.99      0.98     14272\\n           1       0.75      0.37      0.50       728\\n\\n    accuracy                           0.96     15000\\n   macro avg       0.86      0.68      0.74     15000\\nweighted avg       0.96      0.96      0.96     15000\\n'"
      ]
     },
     "execution_count": 40,
     "metadata": {},
     "output_type": "execute_result"
    }
   ],
   "source": [
    "from sklearn.metrics import classification_report\n",
    "classification_report(y_test,y_predict)"
   ]
  },
  {
   "cell_type": "code",
   "execution_count": 41,
   "id": "8a4bc4fc",
   "metadata": {},
   "outputs": [],
   "source": [
    "from sklearn.metrics import confusion_matrix,accuracy_score"
   ]
  },
  {
   "cell_type": "code",
   "execution_count": 42,
   "id": "0d08be9a",
   "metadata": {},
   "outputs": [
    {
     "data": {
      "text/plain": [
       "array([[14183,    89],\n",
       "       [  458,   270]], dtype=int64)"
      ]
     },
     "execution_count": 42,
     "metadata": {},
     "output_type": "execute_result"
    }
   ],
   "source": [
    "confusion_matrix(y_test,y_predict)"
   ]
  },
  {
   "cell_type": "code",
   "execution_count": 43,
   "id": "aa2e769e",
   "metadata": {},
   "outputs": [
    {
     "data": {
      "text/plain": [
       "0.9635333333333334"
      ]
     },
     "execution_count": 43,
     "metadata": {},
     "output_type": "execute_result"
    }
   ],
   "source": [
    "accuracy_score(y_test,y_predict)"
   ]
  },
  {
   "cell_type": "code",
   "execution_count": 44,
   "id": "1ce8f164",
   "metadata": {},
   "outputs": [
    {
     "data": {
      "text/plain": [
       "0.9582042636908842"
      ]
     },
     "execution_count": 44,
     "metadata": {},
     "output_type": "execute_result"
    }
   ],
   "source": [
    "from sklearn.metrics import precision_score\n",
    "precision_score(y_test,y_predict, average='weighted')"
   ]
  },
  {
   "cell_type": "code",
   "execution_count": 45,
   "id": "5e99108a",
   "metadata": {},
   "outputs": [
    {
     "data": {
      "text/plain": [
       "0.9575764304704446"
      ]
     },
     "execution_count": 45,
     "metadata": {},
     "output_type": "execute_result"
    }
   ],
   "source": [
    "from sklearn.metrics import f1_score\n",
    "f1_score(y_test,y_predict, average='weighted')"
   ]
  },
  {
   "cell_type": "code",
   "execution_count": 46,
   "id": "a3df64de",
   "metadata": {},
   "outputs": [
    {
     "data": {
      "text/plain": [
       "0.9587333333333333"
      ]
     },
     "execution_count": 46,
     "metadata": {},
     "output_type": "execute_result"
    }
   ],
   "source": [
    "from sklearn.metrics import recall_score\n",
    "recall_score(y_test, predictions, average='weighted')"
   ]
  },
  {
   "cell_type": "code",
   "execution_count": 47,
   "id": "210add63",
   "metadata": {},
   "outputs": [
    {
     "data": {
      "image/png": "[encoded data removed]",
      "text/plain": [
       "<Figure size 432x288 with 2 Axes>"
      ]
     },
     "metadata": {
      "needs_background": "light"
     },
     "output_type": "display_data"
    }
   ],
   "source": [
    "\n",
    "cm = confusion_matrix(y_test, y_predict)\n",
    "\n",
    "sns.heatmap(cm, annot=True, fmt=\"d\", cmap=\"Purples\")\n",
    "\n",
    "plt.xlabel(\"Predicted\")\n",
    "plt.ylabel(\"Actual\")\n",
    "plt.title(\"Confusion Matrix\")\n",
    "plt.show()\n",
    "\n",
    "\n"
   ]
  },
  {
   "cell_type": "markdown",
   "id": "c797b8cc",
   "metadata": {},
   "source": [
    "DECISSION TREE"
   ]
  },
  {
   "cell_type": "code",
   "execution_count": 48,
   "id": "a14069b1",
   "metadata": {},
   "outputs": [
    {
     "data": {
      "text/plain": [
       "DecisionTreeClassifier()"
      ]
     },
     "execution_count": 48,
     "metadata": {},
     "output_type": "execute_result"
    }
   ],
   "source": [
    "from sklearn.tree import DecisionTreeClassifier\n",
    "Classifier =  DecisionTreeClassifier()\n",
    "Classifier.fit(x_train,y_train)"
   ]
  },
  {
   "cell_type": "code",
   "execution_count": 49,
   "id": "969fda54",
   "metadata": {},
   "outputs": [],
   "source": [
    "y_pred = Classifier.predict(x_test)"
   ]
  },
  {
   "cell_type": "code",
   "execution_count": 50,
   "id": "db7ef4fc",
   "metadata": {},
   "outputs": [
    {
     "name": "stdout",
     "output_type": "stream",
     "text": [
      "[[14161   111]\n",
      " [  406   322]]\n"
     ]
    }
   ],
   "source": [
    "from sklearn.metrics import confusion_matrix\n",
    "print(confusion_matrix(y_test,y_pred))"
   ]
  },
  {
   "cell_type": "code",
   "execution_count": 51,
   "id": "b105ebff",
   "metadata": {},
   "outputs": [
    {
     "name": "stdout",
     "output_type": "stream",
     "text": [
      "0.9655333333333334\n"
     ]
    }
   ],
   "source": [
    "from sklearn.metrics import accuracy_score\n",
    "print(accuracy_score(y_test,y_pred))"
   ]
  },
  {
   "cell_type": "code",
   "execution_count": 52,
   "id": "b5f35e44",
   "metadata": {},
   "outputs": [
    {
     "data": {
      "text/plain": [
       "0.9610398968045134"
      ]
     },
     "execution_count": 52,
     "metadata": {},
     "output_type": "execute_result"
    }
   ],
   "source": [
    "from sklearn.metrics import precision_score\n",
    "precision_score(y_test,y_pred, average='weighted')"
   ]
  },
  {
   "cell_type": "code",
   "execution_count": 53,
   "id": "e4c6094b",
   "metadata": {},
   "outputs": [
    {
     "data": {
      "text/plain": [
       "0.9613307765267501"
      ]
     },
     "execution_count": 53,
     "metadata": {},
     "output_type": "execute_result"
    }
   ],
   "source": [
    "from sklearn.metrics import f1_score\n",
    "f1_score(y_test,y_pred, average='weighted')"
   ]
  },
  {
   "cell_type": "code",
   "execution_count": 54,
   "id": "fd2dda53",
   "metadata": {},
   "outputs": [
    {
     "data": {
      "text/plain": [
       "0.9655333333333334"
      ]
     },
     "execution_count": 54,
     "metadata": {},
     "output_type": "execute_result"
    }
   ],
   "source": [
    "from sklearn.metrics import recall_score\n",
    "recall_score(y_test, y_pred, average='weighted')"
   ]
  },
  {
   "cell_type": "markdown",
   "id": "9721a68b",
   "metadata": {},
   "source": [
    "RANDOM FOREST"
   ]
  },
  {
   "cell_type": "code",
   "execution_count": 55,
   "id": "8be8d6fb",
   "metadata": {},
   "outputs": [
    {
     "data": {
      "text/plain": [
       "RandomForestClassifier(criterion='entropy', n_estimators=5)"
      ]
     },
     "execution_count": 55,
     "metadata": {},
     "output_type": "execute_result"
    }
   ],
   "source": [
    "from sklearn.ensemble import RandomForestClassifier\n",
    "classifier=RandomForestClassifier(n_estimators=5,criterion='entropy')\n",
    "classifier.fit(x_train,y_train)"
   ]
  },
  {
   "cell_type": "code",
   "execution_count": 56,
   "id": "a661b581",
   "metadata": {},
   "outputs": [],
   "source": [
    "y_predict=classifier.predict(x_test)"
   ]
  },
  {
   "cell_type": "code",
   "execution_count": 57,
   "id": "c249e894",
   "metadata": {},
   "outputs": [],
   "source": [
    "from sklearn.metrics import confusion_matrix,classification_report,accuracy_score"
   ]
  },
  {
   "cell_type": "code",
   "execution_count": 58,
   "id": "5d980f4e",
   "metadata": {},
   "outputs": [
    {
     "data": {
      "text/plain": [
       "array([[14162,   110],\n",
       "       [  405,   323]], dtype=int64)"
      ]
     },
     "execution_count": 58,
     "metadata": {},
     "output_type": "execute_result"
    }
   ],
   "source": [
    "confusion_matrix(y_test,y_predict)"
   ]
  },
  {
   "cell_type": "code",
   "execution_count": 59,
   "id": "876de945",
   "metadata": {},
   "outputs": [
    {
     "data": {
      "text/plain": [
       "0.9656666666666667"
      ]
     },
     "execution_count": 59,
     "metadata": {},
     "output_type": "execute_result"
    }
   ],
   "source": [
    "accuracy_score(y_test,y_predict)"
   ]
  },
  {
   "cell_type": "code",
   "execution_count": 60,
   "id": "edf17e3d",
   "metadata": {},
   "outputs": [
    {
     "data": {
      "text/plain": [
       "0.9612172996078273"
      ]
     },
     "execution_count": 60,
     "metadata": {},
     "output_type": "execute_result"
    }
   ],
   "source": [
    "from sklearn.metrics import precision_score\n",
    "precision_score(y_test,y_predict, average='weighted')"
   ]
  },
  {
   "cell_type": "code",
   "execution_count": 61,
   "id": "9b8beee0",
   "metadata": {},
   "outputs": [
    {
     "data": {
      "text/plain": [
       "0.9614803673332232"
      ]
     },
     "execution_count": 61,
     "metadata": {},
     "output_type": "execute_result"
    }
   ],
   "source": [
    "from sklearn.metrics import f1_score\n",
    "f1_score(y_test,y_predict, average='weighted')"
   ]
  },
  {
   "cell_type": "code",
   "execution_count": 62,
   "id": "76ffc0d1",
   "metadata": {},
   "outputs": [
    {
     "data": {
      "text/plain": [
       "0.9656666666666667"
      ]
     },
     "execution_count": 62,
     "metadata": {},
     "output_type": "execute_result"
    }
   ],
   "source": [
    "from sklearn.metrics import recall_score\n",
    "recall_score(y_test, y_predict, average='weighted')"
   ]
  },
  {
   "cell_type": "code",
   "execution_count": 63,
   "id": "b7b1ba9b",
   "metadata": {},
   "outputs": [
    {
     "name": "stdout",
     "output_type": "stream",
     "text": [
      "Requirement already satisfied: xgboost in c:\\users\\vasudha\\anaconda3\\lib\\site-packages (1.7.5)\n",
      "Requirement already satisfied: numpy in c:\\users\\vasudha\\anaconda3\\lib\\site-packages (from xgboost) (1.22.4)\n",
      "Requirement already satisfied: scipy in c:\\users\\vasudha\\anaconda3\\lib\\site-packages (from xgboost) (1.7.1)\n",
      "Note: you may need to restart the kernel to use updated packages.\n"
     ]
    },
    {
     "name": "stderr",
     "output_type": "stream",
     "text": [
      "WARNING: Ignoring invalid distribution -atplotlib (c:\\users\\vasudha\\anaconda3\\lib\\site-packages)\n",
      "WARNING: Ignoring invalid distribution -atplotlib (c:\\users\\vasudha\\anaconda3\\lib\\site-packages)\n",
      "WARNING: Ignoring invalid distribution -atplotlib (c:\\users\\vasudha\\anaconda3\\lib\\site-packages)\n",
      "WARNING: Ignoring invalid distribution -atplotlib (c:\\users\\vasudha\\anaconda3\\lib\\site-packages)\n",
      "WARNING: Ignoring invalid distribution -atplotlib (c:\\users\\vasudha\\anaconda3\\lib\\site-packages)\n",
      "WARNING: Ignoring invalid distribution -atplotlib (c:\\users\\vasudha\\anaconda3\\lib\\site-packages)\n"
     ]
    }
   ],
   "source": [
    "pip install xgboost"
   ]
  },
  {
   "cell_type": "code",
   "execution_count": 64,
   "id": "e71b13a4",
   "metadata": {},
   "outputs": [
    {
     "data": {
      "text/plain": [
       "XGBClassifier(base_score=None, booster=None, callbacks=None,\n",
       "              colsample_bylevel=None, colsample_bynode=None,\n",
       "              colsample_bytree=None, early_stopping_rounds=None,\n",
       "              enable_categorical=False, eval_metric=None, feature_types=None,\n",
       "              gamma=None, gpu_id=None, grow_policy=None, importance_type=None,\n",
       "              interaction_constraints=None, learning_rate=None, max_bin=None,\n",
       "              max_cat_threshold=None, max_cat_to_onehot=None,\n",
       "              max_delta_step=None, max_depth=None, max_leaves=None,\n",
       "              min_child_weight=None, missing=nan, monotone_constraints=None,\n",
       "              n_estimators=100, n_jobs=None, num_parallel_tree=None,\n",
       "              predictor=None, random_state=None, ...)"
      ]
     },
     "execution_count": 64,
     "metadata": {},
     "output_type": "execute_result"
    }
   ],
   "source": [
    "import xgboost\n",
    "xgboost.XGBClassifier()\n"
   ]
  },
  {
   "cell_type": "code",
   "execution_count": 65,
   "id": "7a9e117b",
   "metadata": {},
   "outputs": [
    {
     "name": "stdout",
     "output_type": "stream",
     "text": [
      "[15:07:14] WARNING: C:\\buildkite-agent\\builds\\buildkite-windows-cpu-autoscaling-group-i-07593ffd91cd9da33-1\\xgboost\\xgboost-ci-windows\\src\\learner.cc:767: \n",
      "Parameters: { \"colsampl_bytree\" } are not used.\n",
      "\n",
      "[0]\tvalidation_0-auc:0.72268\n",
      "[1]\tvalidation_0-auc:0.72260\n",
      "[2]\tvalidation_0-auc:0.72280\n",
      "[3]\tvalidation_0-auc:0.72279\n",
      "[4]\tvalidation_0-auc:0.72283\n",
      "[5]\tvalidation_0-auc:0.73995\n",
      "[6]\tvalidation_0-auc:0.73995\n",
      "[7]\tvalidation_0-auc:0.73997\n",
      "[8]\tvalidation_0-auc:0.74182\n",
      "[9]\tvalidation_0-auc:0.74180\n",
      "[10]\tvalidation_0-auc:0.74182\n",
      "[11]\tvalidation_0-auc:0.74182\n",
      "[12]\tvalidation_0-auc:0.74181\n",
      "[13]\tvalidation_0-auc:0.74180\n",
      "[14]\tvalidation_0-auc:0.74178\n",
      "[15]\tvalidation_0-auc:0.74178\n",
      "[16]\tvalidation_0-auc:0.74177\n",
      "[17]\tvalidation_0-auc:0.74177\n",
      "[18]\tvalidation_0-auc:0.74178\n",
      "[19]\tvalidation_0-auc:0.74179\n",
      "[20]\tvalidation_0-auc:0.74179\n",
      "[21]\tvalidation_0-auc:0.74179\n"
     ]
    },
    {
     "data": {
      "text/plain": [
       "XGBClassifier(base_score=None, booster=None, callbacks=None,\n",
       "              colsampl_bytree=0.5, colsample_bylevel=None,\n",
       "              colsample_bynode=None, colsample_bytree=None,\n",
       "              early_stopping_rounds=None, enable_categorical=False,\n",
       "              eval_metric='auc', feature_types=None, gamma=None, gpu_id=None,\n",
       "              grow_policy=None, importance_type=None,\n",
       "              interaction_constraints=None, learning_rate=0.1, max_bin=None,\n",
       "              max_cat_threshold=None, max_cat_to_onehot=None,\n",
       "              max_delta_step=None, max_depth=5, max_leaves=None,\n",
       "              min_child_weight=None, missing=nan, monotone_constraints=None,\n",
       "              n_estimators=5000, n_jobs=None, num_parallel_tree=None,\n",
       "              predictor=None, ...)"
      ]
     },
     "execution_count": 65,
     "metadata": {},
     "output_type": "execute_result"
    }
   ],
   "source": [
    "model=xgboost.XGBClassifier(learning_rate=0.1,\n",
    "                            max_depth=5,\n",
    "                            n_estimators=5000,\n",
    "                            subsample=0.5,\n",
    "                            colsampl_bytree=0.5,\n",
    "                            eval_metric='auc',\n",
    "                            verbosity=1)\n",
    "eval_set=[(x_test,y_test)]\n",
    "model.fit(x_train,\n",
    "          y_train,\n",
    "          early_stopping_rounds=10,\n",
    "          eval_set=eval_set,\n",
    "          verbose=True)"
   ]
  },
  {
   "cell_type": "code",
   "execution_count": 71,
   "id": "a26cf6cf",
   "metadata": {},
   "outputs": [],
   "source": [
    "y_train_predict=model.predict_proba(x_train)[:,1]\n",
    "y_predict=model.predict_proba(x_test)[:,1]"
   ]
  },
  {
   "cell_type": "code",
   "execution_count": 77,
   "id": "3388d0a8",
   "metadata": {},
   "outputs": [],
   "source": [
    "y_pred = model.predict(x_test)"
   ]
  },
  {
   "cell_type": "code",
   "execution_count": 78,
   "id": "75b23d23",
   "metadata": {},
   "outputs": [],
   "source": [
    "from sklearn.model_selection import GridSearchCV\n",
    "from sklearn.metrics import roc_auc_score"
   ]
  },
  {
   "cell_type": "code",
   "execution_count": 79,
   "id": "1bc5a25a",
   "metadata": {},
   "outputs": [
    {
     "data": {
      "text/plain": [
       "0.7442008792427337"
      ]
     },
     "execution_count": 79,
     "metadata": {},
     "output_type": "execute_result"
    }
   ],
   "source": [
    "roc_auc_score(y_train,y_train_predict)"
   ]
  },
  {
   "cell_type": "code",
   "execution_count": 80,
   "id": "83ab9780",
   "metadata": {},
   "outputs": [
    {
     "data": {
      "text/plain": [
       "0.9614402451761818"
      ]
     },
     "execution_count": 80,
     "metadata": {},
     "output_type": "execute_result"
    }
   ],
   "source": [
    "from sklearn.metrics import precision_score\n",
    "precision_score(y_test,y_pred, average='weighted')"
   ]
  },
  {
   "cell_type": "code",
   "execution_count": 81,
   "id": "9cef0a33",
   "metadata": {},
   "outputs": [
    {
     "data": {
      "text/plain": [
       "0.9618422984206783"
      ]
     },
     "execution_count": 81,
     "metadata": {},
     "output_type": "execute_result"
    }
   ],
   "source": [
    "from sklearn.metrics import f1_score\n",
    "f1_score(y_test,y_pred, average='weighted')"
   ]
  },
  {
   "cell_type": "code",
   "execution_count": 83,
   "id": "fe37603d",
   "metadata": {},
   "outputs": [
    {
     "data": {
      "text/plain": [
       "0.9658"
      ]
     },
     "execution_count": 83,
     "metadata": {},
     "output_type": "execute_result"
    }
   ],
   "source": [
    "from sklearn.metrics import recall_score\n",
    "recall_score(y_test, y_pred, average='weighted')"
   ]
  },
  {
   "cell_type": "code",
   "execution_count": 84,
   "id": "1fdfed6d",
   "metadata": {},
   "outputs": [],
   "source": [
    "from sklearn.neighbors import KNeighborsClassifier"
   ]
  },
  {
   "cell_type": "code",
   "execution_count": 85,
   "id": "4a5f9f68",
   "metadata": {},
   "outputs": [],
   "source": [
    "knn=KNeighborsClassifier(n_neighbors=1)"
   ]
  },
  {
   "cell_type": "code",
   "execution_count": 86,
   "id": "7aeb01d4",
   "metadata": {},
   "outputs": [
    {
     "data": {
      "text/plain": [
       "KNeighborsClassifier(n_neighbors=1)"
      ]
     },
     "execution_count": 86,
     "metadata": {},
     "output_type": "execute_result"
    }
   ],
   "source": [
    "knn.fit(x_train,y_train)"
   ]
  },
  {
   "cell_type": "code",
   "execution_count": 87,
   "id": "f4065a6c",
   "metadata": {},
   "outputs": [],
   "source": [
    "y_pred=knn.predict(x_test)"
   ]
  },
  {
   "cell_type": "code",
   "execution_count": 88,
   "id": "cacfed9c",
   "metadata": {},
   "outputs": [],
   "source": [
    "from sklearn.metrics import confusion_matrix,classification_report"
   ]
  },
  {
   "cell_type": "code",
   "execution_count": 89,
   "id": "e5b13ab3",
   "metadata": {},
   "outputs": [
    {
     "data": {
      "text/plain": [
       "array([[14197,    75],\n",
       "       [  529,   199]], dtype=int64)"
      ]
     },
     "execution_count": 89,
     "metadata": {},
     "output_type": "execute_result"
    }
   ],
   "source": [
    "confusion_matrix(y_test,y_pred)"
   ]
  },
  {
   "cell_type": "code",
   "execution_count": 90,
   "id": "56f5aca0",
   "metadata": {},
   "outputs": [
    {
     "data": {
      "text/plain": [
       "'              precision    recall  f1-score   support\\n\\n           0       0.96      0.99      0.98     14272\\n           1       0.73      0.27      0.40       728\\n\\n    accuracy                           0.96     15000\\n   macro avg       0.85      0.63      0.69     15000\\nweighted avg       0.95      0.96      0.95     15000\\n'"
      ]
     },
     "execution_count": 90,
     "metadata": {},
     "output_type": "execute_result"
    }
   ],
   "source": [
    "classification_report(y_test,y_pred)"
   ]
  },
  {
   "cell_type": "code",
   "execution_count": 91,
   "id": "495b6037",
   "metadata": {},
   "outputs": [],
   "source": [
    "from sklearn import svm\n",
    "\n",
    "classifier=svm.SVC(kernel='linear',gamma='auto',C=2)\n",
    "classifier.fit(x_train,y_train)\n",
    "y_predict=classifier.predict(x_test)"
   ]
  },
  {
   "cell_type": "code",
   "execution_count": 92,
   "id": "f8fbc998",
   "metadata": {},
   "outputs": [
    {
     "data": {
      "text/plain": [
       "'              precision    recall  f1-score   support\\n\\n           0       0.97      0.99      0.98     14272\\n           1       0.75      0.37      0.50       728\\n\\n    accuracy                           0.96     15000\\n   macro avg       0.86      0.68      0.74     15000\\nweighted avg       0.96      0.96      0.96     15000\\n'"
      ]
     },
     "execution_count": 92,
     "metadata": {},
     "output_type": "execute_result"
    }
   ],
   "source": [
    "from sklearn.metrics import classification_report\n",
    "classification_report(y_test,y_predict)"
   ]
  },
  {
   "cell_type": "code",
   "execution_count": 93,
   "id": "6ce1856e",
   "metadata": {},
   "outputs": [],
   "source": [
    "from sklearn.metrics import confusion_matrix,accuracy_score"
   ]
  },
  {
   "cell_type": "code",
   "execution_count": 94,
   "id": "56649b9e",
   "metadata": {},
   "outputs": [
    {
     "data": {
      "text/plain": [
       "array([[14183,    89],\n",
       "       [  458,   270]], dtype=int64)"
      ]
     },
     "execution_count": 94,
     "metadata": {},
     "output_type": "execute_result"
    }
   ],
   "source": [
    "confusion_matrix(y_test,y_predict)"
   ]
  },
  {
   "cell_type": "code",
   "execution_count": 95,
   "id": "290d4ff5",
   "metadata": {},
   "outputs": [
    {
     "data": {
      "text/plain": [
       "0.9635333333333334"
      ]
     },
     "execution_count": 95,
     "metadata": {},
     "output_type": "execute_result"
    }
   ],
   "source": [
    "accuracy_score(y_test,y_predict)"
   ]
  },
  {
   "cell_type": "code",
   "execution_count": 96,
   "id": "6796d8d1",
   "metadata": {},
   "outputs": [
    {
     "data": {
      "text/plain": [
       "0.9582042636908842"
      ]
     },
     "execution_count": 96,
     "metadata": {},
     "output_type": "execute_result"
    }
   ],
   "source": [
    "from sklearn.metrics import precision_score\n",
    "precision_score(y_test,y_predict, average='weighted')"
   ]
  },
  {
   "cell_type": "code",
   "execution_count": 97,
   "id": "7236c8bd",
   "metadata": {},
   "outputs": [
    {
     "data": {
      "text/plain": [
       "0.9509262571209053"
      ]
     },
     "execution_count": 97,
     "metadata": {},
     "output_type": "execute_result"
    }
   ],
   "source": [
    "from sklearn.metrics import f1_score\n",
    "f1_score(y_test,y_pred, average='weighted')"
   ]
  },
  {
   "cell_type": "code",
   "execution_count": 98,
   "id": "7772ed34",
   "metadata": {},
   "outputs": [
    {
     "data": {
      "text/plain": [
       "0.9597333333333333"
      ]
     },
     "execution_count": 98,
     "metadata": {},
     "output_type": "execute_result"
    }
   ],
   "source": [
    "from sklearn.metrics import recall_score\n",
    "recall_score(y_test, y_pred, average='weighted')"
   ]
  },
  {
   "cell_type": "code",
   "execution_count": null,
   "id": "2211ba4e",
   "metadata": {},
   "outputs": [],
   "source": []
  }
 ],
 "metadata": {
  "kernelspec": {
   "display_name": "Python 3 (ipykernel)",
   "language": "python",
   "name": "python3"
  },
  "language_info": {
   "codemirror_mode": {
    "name": "ipython",
    "version": 3
   },
   "file_extension": ".py",
   "mimetype": "text/x-python",
   "name": "python",
   "nbconvert_exporter": "python",
   "pygments_lexer": "ipython3",
   "version": "3.9.7"
  }
 },
 "nbformat": 4,
 "nbformat_minor": 5
}
